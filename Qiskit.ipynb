{
 "cells": [
  {
   "cell_type": "code",
   "execution_count": 1,
   "metadata": {},
   "outputs": [
    {
     "name": "stdout",
     "output_type": "stream",
     "text": [
      "{'11': 513, '00': 511}\n"
     ]
    }
   ],
   "source": [
    "import qiskit\n",
    "\n",
    "# Define the quantum and classical registers\n",
    "qr = qiskit.QuantumRegister(2)\n",
    "cr = qiskit.ClassicalRegister(2)\n",
    "\n",
    "# Create a quantum circuit\n",
    "circuit = qiskit.QuantumCircuit(qr, cr)\n",
    "\n",
    "# Apply a Hadamard gate to the first qubit\n",
    "circuit.h(qr[0])\n",
    "\n",
    "# Apply a controlled-NOT gate with the first qubit as the control and the second qubit as the target\n",
    "circuit.cx(qr[0], qr[1])\n",
    "\n",
    "# Measure both qubits and store the results in the classical registers\n",
    "circuit.measure(qr, cr)\n",
    "\n",
    "# Execute the circuit on a simulator\n",
    "simulator = qiskit.BasicAer.get_backend('qasm_simulator')\n",
    "result = qiskit.execute(circuit, backend=simulator).result()\n",
    "\n",
    "# Print the measurement counts\n",
    "print(result.get_counts(circuit))\n"
   ]
  },
  {
   "cell_type": "markdown",
   "metadata": {},
   "source": [
    "# This program defines a quantum circuit with two qubits and two classical bits. It applies a Hadamard gate to the first qubit and a controlled-NOT gate with the first qubit as the control and the second qubit as the target. The circuit is then executed on a simulator and the measurement counts are printed.\n",
    "\n",
    "# This is just a simple example of what a Qiskit program might look like. Qiskit has many more features and capabilities that can be used to create more complex quantum circuits and algorithms."
   ]
  },
  {
   "cell_type": "code",
   "execution_count": null,
   "metadata": {},
   "outputs": [],
   "source": []
  }
 ],
 "metadata": {
  "kernelspec": {
   "display_name": "Python 3",
   "language": "python",
   "name": "python3"
  },
  "language_info": {
   "codemirror_mode": {
    "name": "ipython",
    "version": 3
   },
   "file_extension": ".py",
   "mimetype": "text/x-python",
   "name": "python",
   "nbconvert_exporter": "python",
   "pygments_lexer": "ipython3",
   "version": "3.7.6"
  }
 },
 "nbformat": 4,
 "nbformat_minor": 4
}
