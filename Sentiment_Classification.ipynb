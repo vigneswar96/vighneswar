{
  "nbformat": 4,
  "nbformat_minor": 0,
  "metadata": {
    "colab": {
      "provenance": [],
      "authorship_tag": "ABX9TyMtw8PzXm0DOxeMX3DCmtIg",
      "include_colab_link": true
    },
    "kernelspec": {
      "name": "python3",
      "display_name": "Python 3"
    },
    "language_info": {
      "name": "python"
    },
    "accelerator": "GPU",
    "gpuClass": "standard"
  },
  "cells": [
    {
      "cell_type": "markdown",
      "metadata": {
        "id": "view-in-github",
        "colab_type": "text"
      },
      "source": [
        "<a href=\"https://colab.research.google.com/github/vigneswar96/vigneswar96/blob/main/Sentiment_Classification.ipynb\" target=\"_parent\"><img src=\"https://colab.research.google.com/assets/colab-badge.svg\" alt=\"Open In Colab\"/></a>"
      ]
    },
    {
      "cell_type": "code",
      "execution_count": null,
      "metadata": {
        "id": "tgOdDuofGcjy"
      },
      "outputs": [],
      "source": []
    },
    {
      "cell_type": "markdown",
      "source": [
        "# Sentiment Classifcation "
      ],
      "metadata": {
        "id": "B2xnF0doGpLM"
      }
    },
    {
      "cell_type": "markdown",
      "source": [
        "## Dataset \n",
        "- Dataset of 50,000 movie reviews from IMDB, labeled by sentiment positive (1) or negative (0)\n",
        "- Reviews have been preprocessed, and each review is encoded as a sequence of word indexes (integers).\n",
        "- For convenience, words are indexed by overall frequency in the dataset, so that for instance the integer \"3\" encodes the 3rd most frequent word in the data. This allows for quick filtering operations such as: \"only consider the top 10,000 most common words, but eliminate the top 20 most common words\".\n",
        "- As a convention, \"0\" does not stand for a specific word, but instead is used to encode any unknown word.\n",
        "\n",
        "Command to import data\n",
        "- `from tensorflow.keras.datasets import imdb`"
      ],
      "metadata": {
        "id": "-n7g6uafGtiz"
      }
    },
    {
      "cell_type": "code",
      "source": [
        "from tensorflow.keras.datasets import imdb \n",
        "(X_train, y_train), (X_test,y_test) = imdb.load_data(num_words = 10000)\n"
      ],
      "metadata": {
        "colab": {
          "base_uri": "https://localhost:8080/"
        },
        "id": "E0igUrfaGsOI",
        "outputId": "6d1a7169-4d10-4498-c075-708fe0e2e4d5"
      },
      "execution_count": 1,
      "outputs": [
        {
          "output_type": "stream",
          "name": "stdout",
          "text": [
            "Downloading data from https://storage.googleapis.com/tensorflow/tf-keras-datasets/imdb.npz\n",
            "17464789/17464789 [==============================] - 2s 0us/step\n"
          ]
        }
      ]
    },
    {
      "cell_type": "markdown",
      "source": [
        "### Pad each sentence to be of same length "
      ],
      "metadata": {
        "id": "R27RQyJXHHHT"
      }
    },
    {
      "cell_type": "markdown",
      "source": [
        "- Take maximum sequence length as 300"
      ],
      "metadata": {
        "id": "gd7XlgZrHOnr"
      }
    },
    {
      "cell_type": "code",
      "source": [
        "from tensorflow.keras.preprocessing.sequence import pad_sequences \n",
        "\n",
        "X_train = pad_sequences(X_train, maxlen = 300)\n",
        "X_test = pad_sequences (X_test, maxlen = 300)  "
      ],
      "metadata": {
        "id": "e7rxz1VIGxcT"
      },
      "execution_count": 2,
      "outputs": []
    },
    {
      "cell_type": "markdown",
      "source": [
        "## Print Shape of features and labels "
      ],
      "metadata": {
        "id": "ccBY92ZSIn70"
      }
    },
    {
      "cell_type": "markdown",
      "source": [
        "- Number of review, number of words in each review "
      ],
      "metadata": {
        "id": "sYrnSdwRIyxL"
      }
    },
    {
      "cell_type": "code",
      "source": [
        "X_train.shape"
      ],
      "metadata": {
        "colab": {
          "base_uri": "https://localhost:8080/"
        },
        "id": "WgfQABddIbYG",
        "outputId": "bea86de3-c9fc-4c79-c46a-9491b49e47a1"
      },
      "execution_count": 3,
      "outputs": [
        {
          "output_type": "execute_result",
          "data": {
            "text/plain": [
              "(25000, 300)"
            ]
          },
          "metadata": {},
          "execution_count": 3
        }
      ]
    },
    {
      "cell_type": "code",
      "source": [
        "X_test.shape"
      ],
      "metadata": {
        "colab": {
          "base_uri": "https://localhost:8080/"
        },
        "id": "fd3qSNWUIvaA",
        "outputId": "430c0934-b9b5-43af-9c36-a49b0d14672a"
      },
      "execution_count": 4,
      "outputs": [
        {
          "output_type": "execute_result",
          "data": {
            "text/plain": [
              "(25000, 300)"
            ]
          },
          "metadata": {},
          "execution_count": 4
        }
      ]
    },
    {
      "cell_type": "markdown",
      "source": [
        "### Number of labels "
      ],
      "metadata": {
        "id": "lDLhQcbXI5ND"
      }
    },
    {
      "cell_type": "code",
      "source": [
        "y_train.shape"
      ],
      "metadata": {
        "colab": {
          "base_uri": "https://localhost:8080/"
        },
        "id": "jHUSIsadI3ZO",
        "outputId": "c27d865f-54e8-4a67-b822-2befbf8c97db"
      },
      "execution_count": 5,
      "outputs": [
        {
          "output_type": "execute_result",
          "data": {
            "text/plain": [
              "(25000,)"
            ]
          },
          "metadata": {},
          "execution_count": 5
        }
      ]
    },
    {
      "cell_type": "code",
      "source": [
        "y_test.shape"
      ],
      "metadata": {
        "colab": {
          "base_uri": "https://localhost:8080/"
        },
        "id": "xNPJ-S-mI825",
        "outputId": "7736f00e-38f1-4d19-a1d2-0e2a9c6f996e"
      },
      "execution_count": 6,
      "outputs": [
        {
          "output_type": "execute_result",
          "data": {
            "text/plain": [
              "(25000,)"
            ]
          },
          "metadata": {},
          "execution_count": 6
        }
      ]
    },
    {
      "cell_type": "code",
      "source": [
        "X_train"
      ],
      "metadata": {
        "colab": {
          "base_uri": "https://localhost:8080/"
        },
        "id": "RlZTIVIXI-tB",
        "outputId": "bf74c6e2-d315-405b-8e99-2bc41d03a56c"
      },
      "execution_count": 7,
      "outputs": [
        {
          "output_type": "execute_result",
          "data": {
            "text/plain": [
              "array([[   0,    0,    0, ...,   19,  178,   32],\n",
              "       [   0,    0,    0, ...,   16,  145,   95],\n",
              "       [   0,    0,    0, ...,    7,  129,  113],\n",
              "       ...,\n",
              "       [   0,    0,    0, ...,    4, 3586,    2],\n",
              "       [   0,    0,    0, ...,   12,    9,   23],\n",
              "       [   0,    0,    0, ...,  204,  131,    9]], dtype=int32)"
            ]
          },
          "metadata": {},
          "execution_count": 7
        }
      ]
    },
    {
      "cell_type": "code",
      "source": [
        "y_train[1]"
      ],
      "metadata": {
        "colab": {
          "base_uri": "https://localhost:8080/"
        },
        "id": "p0iyc6KEJD3Q",
        "outputId": "4c74735b-d6f6-4c85-ed26-26b822682ff8"
      },
      "execution_count": 8,
      "outputs": [
        {
          "output_type": "execute_result",
          "data": {
            "text/plain": [
              "0"
            ]
          },
          "metadata": {},
          "execution_count": 8
        }
      ]
    },
    {
      "cell_type": "markdown",
      "source": [
        "Decode the feature value to get original sentence "
      ],
      "metadata": {
        "id": "tTrXYPmQJN6r"
      }
    },
    {
      "cell_type": "markdown",
      "source": [
        "### First, retrieve a dictionary that contains mapping of words to their index in the IMDB dataset"
      ],
      "metadata": {
        "id": "txSBMzCkJT2s"
      }
    },
    {
      "cell_type": "code",
      "source": [
        "word_index_dict = imdb.get_word_index()"
      ],
      "metadata": {
        "colab": {
          "base_uri": "https://localhost:8080/"
        },
        "id": "uHRZmCnNJGDy",
        "outputId": "c8acbf79-e656-41e9-b232-8254e2389985"
      },
      "execution_count": 9,
      "outputs": [
        {
          "output_type": "stream",
          "name": "stdout",
          "text": [
            "Downloading data from https://storage.googleapis.com/tensorflow/tf-keras-datasets/imdb_word_index.json\n",
            "1641221/1641221 [==============================] - 1s 1us/step\n"
          ]
        }
      ]
    },
    {
      "cell_type": "markdown",
      "source": [
        "### Now I am gonna use the original words from the encodings, for a particular sentence "
      ],
      "metadata": {
        "id": "48ipaQ3uJaAL"
      }
    },
    {
      "cell_type": "code",
      "source": [
        "for encoding in X_train[0]:\n",
        "  for key, value in word_index_dict.items():\n",
        "    if encoding == value:\n",
        "      print(key, end= \" \")\n",
        "      "
      ],
      "metadata": {
        "colab": {
          "base_uri": "https://localhost:8080/"
        },
        "id": "cXJ9bnm1JXHS",
        "outputId": "9b6eed3a-a2f9-4502-a355-c09d5882536b"
      },
      "execution_count": 10,
      "outputs": [
        {
          "output_type": "stream",
          "name": "stdout",
          "text": [
            "the as you with out themselves powerful lets loves their becomes reaching had journalist of lot from anyone to have after out atmosphere never more room and it so heart shows to years of every never going and help moments or of every chest visual movie except her was several of enough more with is now current film as you of mine potentially unfortunately of you than him that with out themselves her get for was camp of you movie sometimes movie that with scary but and to story wonderful that in seeing in character to of 70s musicians with heart had shadows they of here that with her serious to have does when from why what have critics they is you that isn't one will very to as itself with other and in of seen over landed for anyone of and br show's to whether from than out themselves history he name half some br of and odd was two most of mean for 1 any an boat she he should is thought frog but of script you not while history he heart to real at barrel but when from one bit then have two of script their with her nobody most that with wasn't to with armed acting watch an for with heartfelt film want an "
          ]
        }
      ]
    },
    {
      "cell_type": "markdown",
      "source": [
        "### I know it seems to be pretty weird to read from the narrow line "
      ],
      "metadata": {
        "id": "TEn_QZE2J6kc"
      }
    },
    {
      "cell_type": "markdown",
      "source": [
        "### Now lets try to get the snetiment for the above sentence \n",
        "- Positive(1)\n",
        "- Negative(0)"
      ],
      "metadata": {
        "id": "C_qzE6icKBvU"
      }
    },
    {
      "cell_type": "code",
      "source": [
        "y_train[0]"
      ],
      "metadata": {
        "colab": {
          "base_uri": "https://localhost:8080/"
        },
        "id": "hXlomsFVJxqD",
        "outputId": "510b43b3-e0b2-4666-e352-535e2c7944c3"
      },
      "execution_count": 11,
      "outputs": [
        {
          "output_type": "execute_result",
          "data": {
            "text/plain": [
              "1"
            ]
          },
          "metadata": {},
          "execution_count": 11
        }
      ]
    },
    {
      "cell_type": "markdown",
      "source": [
        "### Lets define the Model. Come let's go ✈ "
      ],
      "metadata": {
        "id": "QxnjI0uDKSxc"
      }
    },
    {
      "cell_type": "markdown",
      "source": [
        "### \n",
        "- Define Model \n",
        "- Embedding layer \n",
        "   -  Embedding layer turns postive integers into dense vectors of fixed size\n",
        "   -  tensorflow.keras embedding layer doesn't require us to onehot encode our words, instead we have to give each unique word a unique integer number as an id. For the imdb dataset we've loaded this has already been done, but if this wan't the case we could use sklearn LabelEncoder \n",
        "    -  Size of the vocabulory will be 10000\n",
        "    -  Give dimension of the dense embedding as 100\n",
        "    -  Length of input sequences should be 300 \n",
        "    -  Add LSTM layer \n",
        "       -  Pass value in return_sequences as True \n",
        "    - Add a Time distributed layer with 100 Dense neurons \n",
        "    - Add Flatten layer \n",
        "    - Add Dense layer "
      ],
      "metadata": {
        "id": "ASiYU27fKdnE"
      }
    },
    {
      "cell_type": "code",
      "source": [
        "from tensorflow.keras.models import Sequential \n",
        "from tensorflow.keras.layers import Embedding, LSTM , Flatten, Dense, TimeDistributed \n",
        "\n",
        "model = Sequential()\n",
        "model.add(Embedding(input_dim=10000, output_dim = 100, input_length = 300))\n",
        "model.add(LSTM(64, activation = 'relu', return_sequences=True))\n",
        "\n",
        "model.add(TimeDistributed(Dense(100)))\n",
        "\n",
        "model.add(Flatten())\n",
        "model.add(Dense(1024, activation='relu'))\n",
        "model.add(Dense(512, activation= 'relu'))\n",
        "model.add(Dense(256, activation = 'relu'))\n",
        "model.add(Dense(1, activation='sigmoid'))\n",
        "\n"
      ],
      "metadata": {
        "colab": {
          "base_uri": "https://localhost:8080/"
        },
        "id": "jhEix22gKL7g",
        "outputId": "749d84b2-c756-4e66-c8f1-2e019485d8b2"
      },
      "execution_count": 12,
      "outputs": [
        {
          "output_type": "stream",
          "name": "stderr",
          "text": [
            "WARNING:tensorflow:Layer lstm will not use cuDNN kernels since it doesn't meet the criteria. It will use a generic GPU kernel as fallback when running on GPU.\n"
          ]
        }
      ]
    },
    {
      "cell_type": "markdown",
      "source": [
        "## That's enough for today "
      ],
      "metadata": {
        "id": "GQvL83N6Mrft"
      }
    },
    {
      "cell_type": "code",
      "source": [
        "model.summary()"
      ],
      "metadata": {
        "colab": {
          "base_uri": "https://localhost:8080/"
        },
        "id": "NdUJLpR-Mf40",
        "outputId": "c09b6f6b-a167-4035-9f54-935d70d966b9"
      },
      "execution_count": 13,
      "outputs": [
        {
          "output_type": "stream",
          "name": "stdout",
          "text": [
            "Model: \"sequential\"\n",
            "_________________________________________________________________\n",
            " Layer (type)                Output Shape              Param #   \n",
            "=================================================================\n",
            " embedding (Embedding)       (None, 300, 100)          1000000   \n",
            "                                                                 \n",
            " lstm (LSTM)                 (None, 300, 64)           42240     \n",
            "                                                                 \n",
            " time_distributed (TimeDistr  (None, 300, 100)         6500      \n",
            " ibuted)                                                         \n",
            "                                                                 \n",
            " flatten (Flatten)           (None, 30000)             0         \n",
            "                                                                 \n",
            " dense_1 (Dense)             (None, 1024)              30721024  \n",
            "                                                                 \n",
            " dense_2 (Dense)             (None, 512)               524800    \n",
            "                                                                 \n",
            " dense_3 (Dense)             (None, 256)               131328    \n",
            "                                                                 \n",
            " dense_4 (Dense)             (None, 1)                 257       \n",
            "                                                                 \n",
            "=================================================================\n",
            "Total params: 32,426,149\n",
            "Trainable params: 32,426,149\n",
            "Non-trainable params: 0\n",
            "_________________________________________________________________\n"
          ]
        }
      ]
    },
    {
      "cell_type": "markdown",
      "source": [
        "## Oops that's a lot of parameters 😵"
      ],
      "metadata": {
        "id": "fDg7GIccMzB0"
      }
    },
    {
      "cell_type": "markdown",
      "source": [
        "### Anyways lets compile 🖖"
      ],
      "metadata": {
        "id": "NUhMQ19XM3D9"
      }
    },
    {
      "cell_type": "markdown",
      "source": [
        "### Lets Compile the model now \n",
        "- Using Adam as Optimizer \n",
        "- Using Binary Crossentropy as loss \n",
        "- Please dont ask me what Binary crossentropy is 😛\n",
        "- Use Accuracy as metrics  "
      ],
      "metadata": {
        "id": "UKeVEvq_NL3M"
      }
    },
    {
      "cell_type": "code",
      "source": [
        "model.compile(optimizer='adam', loss='binary_crossentropy', metrics= ['accuracy'])"
      ],
      "metadata": {
        "id": "NCmqWV-hMxQf"
      },
      "execution_count": 14,
      "outputs": []
    },
    {
      "cell_type": "code",
      "source": [
        "model.fit(X_train, y_train, validation_data=(X_test, y_test), epochs=5, batch_size=128)"
      ],
      "metadata": {
        "colab": {
          "base_uri": "https://localhost:8080/"
        },
        "id": "YJ0vtfr2N6jy",
        "outputId": "f66483ce-ceb9-4bde-91cb-269e235c1f7f"
      },
      "execution_count": 15,
      "outputs": [
        {
          "output_type": "stream",
          "name": "stdout",
          "text": [
            "Epoch 1/5\n",
            "196/196 [==============================] - 166s 809ms/step - loss: 0.3917 - accuracy: 0.7987 - val_loss: 0.2977 - val_accuracy: 0.8740\n",
            "Epoch 2/5\n",
            "196/196 [==============================] - 140s 717ms/step - loss: 0.1906 - accuracy: 0.9274 - val_loss: 0.3169 - val_accuracy: 0.8767\n",
            "Epoch 3/5\n",
            "196/196 [==============================] - 137s 700ms/step - loss: 0.1039 - accuracy: 0.9625 - val_loss: 0.4565 - val_accuracy: 0.8637\n",
            "Epoch 4/5\n",
            "196/196 [==============================] - 136s 694ms/step - loss: 0.0431 - accuracy: 0.9844 - val_loss: 0.5414 - val_accuracy: 0.8605\n",
            "Epoch 5/5\n",
            "196/196 [==============================] - 131s 670ms/step - loss: 0.0256 - accuracy: 0.9906 - val_loss: 0.8273 - val_accuracy: 0.8564\n"
          ]
        },
        {
          "output_type": "execute_result",
          "data": {
            "text/plain": [
              "<keras.callbacks.History at 0x7f99b5144580>"
            ]
          },
          "metadata": {},
          "execution_count": 15
        }
      ]
    },
    {
      "cell_type": "code",
      "source": [
        "score = model.evaluate(X_test, y_test)\n",
        "print(\"Loss: {}, Accuracy:{}\".format(score[0], score[1]))"
      ],
      "metadata": {
        "colab": {
          "base_uri": "https://localhost:8080/"
        },
        "id": "ilCAVQswN-WH",
        "outputId": "83b26833-306b-4f16-89aa-2499e3e89b7b"
      },
      "execution_count": 16,
      "outputs": [
        {
          "output_type": "stream",
          "name": "stdout",
          "text": [
            "782/782 [==============================] - 38s 49ms/step - loss: 0.8273 - accuracy: 0.8564\n",
            "Loss: 0.8273101449012756, Accuracy:0.8563600182533264\n"
          ]
        }
      ]
    },
    {
      "cell_type": "code",
      "source": [
        "model.predict(X_test[0].reshape((1, 300)))"
      ],
      "metadata": {
        "colab": {
          "base_uri": "https://localhost:8080/"
        },
        "id": "cHuNBZukReZ9",
        "outputId": "9f424014-8d4a-49d7-f97b-7ac591273d12"
      },
      "execution_count": 17,
      "outputs": [
        {
          "output_type": "stream",
          "name": "stdout",
          "text": [
            "1/1 [==============================] - 0s 267ms/step\n"
          ]
        },
        {
          "output_type": "execute_result",
          "data": {
            "text/plain": [
              "array([[0.00016712]], dtype=float32)"
            ]
          },
          "metadata": {},
          "execution_count": 17
        }
      ]
    },
    {
      "cell_type": "code",
      "source": [],
      "metadata": {
        "id": "TPqHJJKcR9az"
      },
      "execution_count": null,
      "outputs": []
    }
  ]
}